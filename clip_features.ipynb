{
 "cells": [
  {
   "cell_type": "code",
   "execution_count": 1,
   "metadata": {},
   "outputs": [],
   "source": [
    "import h5py"
   ]
  },
  {
   "cell_type": "code",
   "execution_count": 2,
   "metadata": {},
   "outputs": [
    {
     "name": "stdout",
     "output_type": "stream",
     "text": [
      "Loaded 943000 data from train\n"
     ]
    }
   ],
   "source": [
    "import json\n",
    "\n",
    "class Dataset(object):\n",
    "    def __init__(self):\n",
    "        super().__init__()\n",
    "        self.verbose = True\n",
    "        self.img_ids_to_source = {}\n",
    "        data_info_dicts = []\n",
    "        self.sources = ['train']\n",
    "        for source in self.sources:\n",
    "            data_info_path = f'results/GQA/train.json'\n",
    "            with open(data_info_path) as f:\n",
    "                _data_info_dicts = json.load(f)\n",
    "                # source_img_ids.append([d['img_id'] for d in _data_info_dicts])\n",
    "                for _d in _data_info_dicts:\n",
    "                    self.img_ids_to_source[_d['img_id']] = source\n",
    "                    _d['source'] = source\n",
    "                data_info_dicts.extend(_data_info_dicts)\n",
    "            if self.verbose:\n",
    "                print(f\"Loaded {len(_data_info_dicts)} data from\", source)\n",
    "        self.data = data_info_dicts\n",
    "        self.len_data = len(self.data)\n",
    "        self.source_to_featname = {\n",
    "            'train': 'others',\n",
    "            'valid': 'others',\n",
    "            'submit': 'others',\n",
    "\n",
    "            'testdev': 'testdev'\n",
    "        }\n",
    "dataset = Dataset()\n"
   ]
  },
  {
   "cell_type": "code",
   "execution_count": 3,
   "metadata": {},
   "outputs": [],
   "source": [
    "from pathlib import Path\n",
    "idx = int(dataset.len_data / 2)\n",
    "datum = dataset.data[idx]\n",
    "img_id = datum['img_id']\n",
    "out_dict = {}\n",
    "out_dict['img_id'] = img_id\n",
    "source = dataset.img_ids_to_source[img_id]\n",
    "featname = dataset.source_to_featname[source]\n",
    "\n",
    "f = Path(f'/home/pgrimal/Documents/Projects/visual_language_representation/results/GQA/clip_features/data_clip_RN101_att/')\n",
    "\n",
    "if isinstance(f, Path):\n",
    "        # path = self.data_source_to_h5_path[source]\n",
    "        f = h5py.File(f, 'r')\n",
    "        # self.split_to_h5_features[split_i] = f\n",
    "        # self.source_to_h5[source] = f\n",
    "        dataset.featname_to_h5[featname] = f"
   ]
  }
 ],
 "metadata": {
  "interpreter": {
   "hash": "025084c40b588eb05019761c48ebfbdc57758708fc0433510479ba20b4a83a56"
  },
  "kernelspec": {
   "display_name": "Python 3.7.13 ('cvlp2')",
   "language": "python",
   "name": "python3"
  },
  "language_info": {
   "codemirror_mode": {
    "name": "ipython",
    "version": 3
   },
   "file_extension": ".py",
   "mimetype": "text/x-python",
   "name": "python",
   "nbconvert_exporter": "python",
   "pygments_lexer": "ipython3",
   "version": "3.7.13"
  },
  "orig_nbformat": 4
 },
 "nbformat": 4,
 "nbformat_minor": 2
}
